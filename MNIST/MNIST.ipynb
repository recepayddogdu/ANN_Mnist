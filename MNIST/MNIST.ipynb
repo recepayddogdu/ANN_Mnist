{
  "nbformat": 4,
  "nbformat_minor": 0,
  "metadata": {
    "colab": {
      "name": "MNIST.ipynb",
      "provenance": [],
      "collapsed_sections": []
    },
    "kernelspec": {
      "name": "python3",
      "display_name": "Python 3"
    }
  },
  "cells": [
    {
      "cell_type": "markdown",
      "metadata": {
        "id": "hsaMpZveqHuN"
      },
      "source": [
        "# **MNIST Dataseti ile Deep Learning Uygulaması**"
      ]
    },
    {
      "cell_type": "code",
      "metadata": {
        "id": "q8q-1GFP3Ckk"
      },
      "source": [
        "from keras.datasets import mnist"
      ],
      "execution_count": 20,
      "outputs": []
    },
    {
      "cell_type": "code",
      "metadata": {
        "id": "IHQLsG8b3YTg",
        "colab": {
          "base_uri": "https://localhost:8080/"
        },
        "outputId": "b846932a-14d8-42f8-d4c6-c7930269a821"
      },
      "source": [
        "(x_train, y_train), (x_test, y_test) = mnist.load_data()\n",
        "\n",
        "print(\"ilk datanin shape'i:\", x_train[0].shape) # (28, 28)\n",
        "print(\"ilk datanin icerigi:\", y_train[0]) # 5"
      ],
      "execution_count": 21,
      "outputs": [
        {
          "output_type": "stream",
          "text": [
            "ilk datanin shape'i: (28, 28)\n",
            "ilk datanin icerigi: 5\n"
          ],
          "name": "stdout"
        }
      ]
    },
    {
      "cell_type": "markdown",
      "metadata": {
        "id": "Gx9taNhu3m32"
      },
      "source": [
        "Normalization"
      ]
    },
    {
      "cell_type": "code",
      "metadata": {
        "id": "M9hKAKqS3g9u",
        "colab": {
          "base_uri": "https://localhost:8080/"
        },
        "outputId": "04b4e02b-b470-4c47-c80c-ff7e485674cc"
      },
      "source": [
        "x_train = x_train.reshape((60000, 28*28)) #Goruntuyu vektore donusturur\n",
        "x_train = x_train.astype('float32') / 255 #Normalize eder\n",
        "x_test = x_test.reshape((10000, 28*28)) \n",
        "x_test = x_test.astype('float32') / 255\n",
        "\n",
        "print(\"Normalizasyon sonrasi shape:\", x_train.shape) # (60000, 784)"
      ],
      "execution_count": 22,
      "outputs": [
        {
          "output_type": "stream",
          "text": [
            "Normalizasyon sonrasi shape: (60000, 784)\n"
          ],
          "name": "stdout"
        }
      ]
    },
    {
      "cell_type": "markdown",
      "metadata": {
        "id": "CRvLzG7dqjGc"
      },
      "source": [
        "Devamında ağın yapısını tanımlamamız gerekiyor."
      ]
    },
    {
      "cell_type": "code",
      "metadata": {
        "id": "tGdpo7DHqlRX"
      },
      "source": [
        "from keras import models\n",
        "from keras import layers"
      ],
      "execution_count": 23,
      "outputs": []
    },
    {
      "cell_type": "markdown",
      "metadata": {
        "id": "Ckjw-rH5rq86"
      },
      "source": [
        "`from keras.models import Sequential` gibi de kullanabiliriz."
      ]
    },
    {
      "cell_type": "markdown",
      "metadata": {
        "id": "8aiC0qimr37K"
      },
      "source": [
        "Modeli kullanmadan önce `models.Sequential()` gibi tanımlamalıyız."
      ]
    },
    {
      "cell_type": "code",
      "metadata": {
        "id": "x3tkIPJ7q2xq"
      },
      "source": [
        "model = models.Sequential()"
      ],
      "execution_count": 24,
      "outputs": []
    },
    {
      "cell_type": "code",
      "metadata": {
        "id": "OPcLk4IWq4Uz"
      },
      "source": [
        "#Giris katmani\n",
        "model.add(layers.Dense(16, \n",
        "                       activation='relu', \n",
        "                       input_shape=(28*28,)))"
      ],
      "execution_count": 25,
      "outputs": []
    },
    {
      "cell_type": "code",
      "metadata": {
        "id": "6tDFmaqOvgNd"
      },
      "source": [
        "model.add(layers.Dense(16,\n",
        "                       activation='relu'))"
      ],
      "execution_count": 26,
      "outputs": []
    },
    {
      "cell_type": "markdown",
      "metadata": {
        "id": "KN6kOTt3xxgp"
      },
      "source": [
        "Çıkış katmanımızda 10 adet çıkış olmalı.  \n",
        "0,1,2,3,4,5,6,7,8,9\n",
        "\n",
        "Bu, **multi class classification** olarak geçer. Dolayısıyla çıkış katmanımızda activation function olarak **softmax** tercih ediyoruz.\n",
        "\n",
        "**Binary Classification**'da ise genelde **sigmoid** tercih edilir."
      ]
    },
    {
      "cell_type": "code",
      "metadata": {
        "id": "HNbRGdiZkK2U"
      },
      "source": [
        "#Cikis katmani\n",
        "model.add(layers.Dense(10, #cikis sayisina esit olmali\n",
        "                       activation=\"softmax\"))"
      ],
      "execution_count": 27,
      "outputs": []
    },
    {
      "cell_type": "markdown",
      "metadata": {
        "id": "RkerrR63EmRX"
      },
      "source": [
        "`categorical_crossentropy` kullanabilmemiz için, çıkış datalarımız olan *y_train* ve *y_test* datalarını categorical'a dönüştürmemiz gerekiyor.\n",
        "\n",
        "Örneğin, **5** olarak değil **[0,0,0,0,0,1,0,0,0,0]** olarak modele vermemiz gerekiyor.\n",
        "\n",
        "`sparse_categorical_crossentropy` bu işlemi kendisi yapar. `to_categorical` yapmamıza gerek kalmaz."
      ]
    },
    {
      "cell_type": "code",
      "metadata": {
        "id": "U4LK2IzGGbcl"
      },
      "source": [
        "from keras.utils import to_categorical\n",
        "y_train = to_categorical(y_train)\n",
        "y_test = to_categorical(y_test)"
      ],
      "execution_count": 28,
      "outputs": []
    },
    {
      "cell_type": "code",
      "metadata": {
        "colab": {
          "base_uri": "https://localhost:8080/"
        },
        "id": "-QxWubXeJXlc",
        "outputId": "668487cc-e3ca-45d6-99fa-2f820c57ff43"
      },
      "source": [
        "y_train.shape"
      ],
      "execution_count": 29,
      "outputs": [
        {
          "output_type": "execute_result",
          "data": {
            "text/plain": [
              "(60000, 10)"
            ]
          },
          "metadata": {
            "tags": []
          },
          "execution_count": 29
        }
      ]
    },
    {
      "cell_type": "code",
      "metadata": {
        "colab": {
          "base_uri": "https://localhost:8080/"
        },
        "id": "JeCgEcxOJZlV",
        "outputId": "4c3cac5f-535f-48a3-9797-c1e14a654b8c"
      },
      "source": [
        "y_train[0,:] # 5 vardi"
      ],
      "execution_count": 30,
      "outputs": [
        {
          "output_type": "execute_result",
          "data": {
            "text/plain": [
              "array([0., 0., 0., 0., 0., 1., 0., 0., 0., 0.], dtype=float32)"
            ]
          },
          "metadata": {
            "tags": []
          },
          "execution_count": 30
        }
      ]
    },
    {
      "cell_type": "markdown",
      "metadata": {
        "id": "hqdFqgV10zCC"
      },
      "source": [
        "Optimizer olarak *Stochastic Gradient Descent (SGD)* kullanıyoruz.\n",
        "\n",
        "Loss function olarak *Categorical Cross Entropy* kullanıyoruz.  \n",
        "Problem tipi Regresyon ise genelde *mse, mae* gibi regresyon fonksiyonları kullanılır.  \n",
        "Multi class classification'da ise *cross entropy* veya *sparse categorical cross entropy* kullanılır.\n",
        "\n",
        "Metrics ise ekrana yazdıracağımız değeri belirtir.\n",
        "\n",
        "\n"
      ]
    },
    {
      "cell_type": "code",
      "metadata": {
        "id": "Gi1wumg5rG1Z"
      },
      "source": [
        "model.compile(optimizer=\"sgd\", \n",
        "              loss=\"categorical_crossentropy\",\n",
        "              metrics=[\"accuracy\"])"
      ],
      "execution_count": 31,
      "outputs": []
    },
    {
      "cell_type": "markdown",
      "metadata": {
        "id": "cTzLEF14SBWs"
      },
      "source": [
        "Modelin yapısını özet olarak görelim;"
      ]
    },
    {
      "cell_type": "code",
      "metadata": {
        "colab": {
          "base_uri": "https://localhost:8080/"
        },
        "id": "DMfSI0YxSA0E",
        "outputId": "45622692-fe41-435e-ae23-66834c1f03b6"
      },
      "source": [
        "model.summary()"
      ],
      "execution_count": 35,
      "outputs": [
        {
          "output_type": "stream",
          "text": [
            "Model: \"sequential_1\"\n",
            "_________________________________________________________________\n",
            "Layer (type)                 Output Shape              Param #   \n",
            "=================================================================\n",
            "dense_9 (Dense)              (None, 16)                12560     \n",
            "_________________________________________________________________\n",
            "dense_10 (Dense)             (None, 16)                272       \n",
            "_________________________________________________________________\n",
            "dense_11 (Dense)             (None, 10)                170       \n",
            "=================================================================\n",
            "Total params: 13,002\n",
            "Trainable params: 13,002\n",
            "Non-trainable params: 0\n",
            "_________________________________________________________________\n"
          ],
          "name": "stdout"
        }
      ]
    },
    {
      "cell_type": "markdown",
      "metadata": {
        "id": "FPXZ7QPiSMDa"
      },
      "source": [
        "Birinci katmanın çıkışı 16 olarak gözüküyor.  \n",
        "\n",
        "Neden 12560 parametre var?  \n",
        "Girişimiz 784 elemanlı.  \n",
        "Her bir hücreden 784x16 adet *weights* bağlantısı var demektir.  \n",
        "*Bias*'lar da var; 16 adet. (her bir hücre için 1 adet.)  \n",
        "784x16+16 = 12560 parametreye denk gelir.\n",
        "\n",
        "---"
      ]
    },
    {
      "cell_type": "markdown",
      "metadata": {
        "id": "_mUPtthzxB7o"
      },
      "source": [
        "Sıradaki adımımız modeli eğitmek."
      ]
    },
    {
      "cell_type": "code",
      "metadata": {
        "id": "Sr9y1XMGy86c",
        "colab": {
          "base_uri": "https://localhost:8080/"
        },
        "outputId": "5d9ab6ce-116d-41ea-bdd3-936f43a96fd0"
      },
      "source": [
        "model.fit(x_train, y_train, epochs=5, batch_size=64)"
      ],
      "execution_count": 32,
      "outputs": [
        {
          "output_type": "stream",
          "text": [
            "Epoch 1/5\n",
            "938/938 [==============================] - 1s 1ms/step - loss: 1.3326 - accuracy: 0.5856\n",
            "Epoch 2/5\n",
            "938/938 [==============================] - 1s 1ms/step - loss: 0.5173 - accuracy: 0.8566\n",
            "Epoch 3/5\n",
            "938/938 [==============================] - 1s 1ms/step - loss: 0.4049 - accuracy: 0.8848\n",
            "Epoch 4/5\n",
            "938/938 [==============================] - 2s 2ms/step - loss: 0.3555 - accuracy: 0.8983\n",
            "Epoch 5/5\n",
            "938/938 [==============================] - 1s 1ms/step - loss: 0.3252 - accuracy: 0.9072\n"
          ],
          "name": "stdout"
        },
        {
          "output_type": "execute_result",
          "data": {
            "text/plain": [
              "<tensorflow.python.keras.callbacks.History at 0x7f83bfebafd0>"
            ]
          },
          "metadata": {
            "tags": []
          },
          "execution_count": 32
        }
      ]
    },
    {
      "cell_type": "markdown",
      "metadata": {
        "id": "jBijY-TpLGUo"
      },
      "source": [
        "Eğitilmiş ağın performansını ölçelim.\n",
        "\n",
        "Eğitim bittikten sonra eğitimde kullanılmamış görüntülerle ağın başarımı belli olur."
      ]
    },
    {
      "cell_type": "code",
      "metadata": {
        "colab": {
          "base_uri": "https://localhost:8080/"
        },
        "id": "Xugp6ZDGLId5",
        "outputId": "f5e61f51-3a72-4eb0-8226-ec698ae77deb"
      },
      "source": [
        "test_loss, test_acc = model.evaluate(x_test, y_test) #test_images, test_labels"
      ],
      "execution_count": 33,
      "outputs": [
        {
          "output_type": "stream",
          "text": [
            "313/313 [==============================] - 0s 929us/step - loss: 0.2978 - accuracy: 0.9124\n"
          ],
          "name": "stdout"
        }
      ]
    },
    {
      "cell_type": "code",
      "metadata": {
        "id": "ys-sV0mDR0v_"
      },
      "source": [
        ""
      ],
      "execution_count": 34,
      "outputs": []
    },
    {
      "cell_type": "code",
      "metadata": {
        "id": "VTTzp67CR3lG"
      },
      "source": [
        ""
      ],
      "execution_count": null,
      "outputs": []
    }
  ]
}